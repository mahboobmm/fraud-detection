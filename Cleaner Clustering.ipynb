{
 "cells": [
  {
   "cell_type": "code",
   "execution_count": 26,
   "metadata": {},
   "outputs": [],
   "source": [
    "import pandas as pd\n",
    "import numpy as np\n",
    "from sklearn import svm\n",
    "from sklearn.preprocessing import LabelEncoder"
   ]
  },
  {
   "cell_type": "code",
   "execution_count": 57,
   "metadata": {},
   "outputs": [],
   "source": [
    "transactions_path = '/home/mahboob/Downloads/fct_data/transactions.csv'\n",
    "fraudsters_path = '/home/mahboob/Downloads/fct_data/fraudsters.csv'\n",
    "users_path = '/home/mahboob/Downloads/fct_data/users.csv'\n",
    "new_fraud_file_path = '/home/mahboob/Downloads/fct_data/updated_fraudsters.csv'"
   ]
  },
  {
   "cell_type": "code",
   "execution_count": 3,
   "metadata": {},
   "outputs": [],
   "source": [
    "transactions_df = pd.read_csv(transactions_path)\n",
    "fraudsters_df = pd.read_csv(fraudsters_path)\n",
    "users_df = pd.read_csv(users_path)"
   ]
  },
  {
   "cell_type": "code",
   "execution_count": 4,
   "metadata": {},
   "outputs": [],
   "source": [
    "le = LabelEncoder()\n",
    "transactions_df['CURRENCY'] = le.fit_transform(transactions_df['CURRENCY'].astype('str'))\n",
    "transactions_df['STATE'] = le.fit_transform(transactions_df['STATE'].astype('str'))\n",
    "transactions_df['MERCHANT_CATEGORY'] = le.fit_transform(transactions_df['MERCHANT_CATEGORY'].astype('str'))\n",
    "transactions_df['ENTRY_METHOD'] = le.fit_transform(transactions_df['ENTRY_METHOD'].astype('str'))\n",
    "transactions_df['TYPE'] = le.fit_transform(transactions_df['TYPE'].astype('str'))\n",
    "transactions_df['SOURCE'] = le.fit_transform(transactions_df['SOURCE'].astype('str'))\n",
    "transactions_df['MERCHANT_COUNTRY'] = le.fit_transform(transactions_df['MERCHANT_COUNTRY'].astype('str'))"
   ]
  },
  {
   "cell_type": "code",
   "execution_count": 5,
   "metadata": {},
   "outputs": [],
   "source": [
    "from datetime import datetime\n",
    "#date = lambda x: datetime.strptime(x, \"%Y-%m-%d %H:%M:%S:%f\")\n",
    "month = lambda x: datetime.strptime(x, \"%Y-%m-%d %H:%M:%S.%f\" ).month\n",
    "week_day = lambda x: datetime.strptime(x, \"%Y-%m-%d %H:%M:%S.%f\" ).weekday()\n",
    "times_of_day = [0, 0, 0, 1, 1, 1, 2, 2, 2, 3, 3, 3, 4, 4, 4, 5, 5, 5, 6, 6, 6, 7, 7, 7 ]\n",
    "time_of_day = lambda x: times_of_day[datetime.strptime(x, \"%Y-%m-%d %H:%M:%S.%f\").hour]\n",
    "\n",
    "transactions_df['month'] = transactions_df['CREATED_DATE'].map(month)\n",
    "transactions_df['day_of_week'] = transactions_df['CREATED_DATE'].map(week_day)\n",
    "transactions_df['time_of_day'] = transactions_df['CREATED_DATE'].map(month)"
   ]
  },
  {
   "cell_type": "code",
   "execution_count": 6,
   "metadata": {},
   "outputs": [],
   "source": [
    "fraud_transactions = pd.merge(fraudsters_df, transactions_df, left_on = 'user_id', right_on = 'USER_ID', how='left')"
   ]
  },
  {
   "cell_type": "code",
   "execution_count": 22,
   "metadata": {},
   "outputs": [
    {
     "data": {
      "text/html": [
       "<div>\n",
       "<style scoped>\n",
       "    .dataframe tbody tr th:only-of-type {\n",
       "        vertical-align: middle;\n",
       "    }\n",
       "\n",
       "    .dataframe tbody tr th {\n",
       "        vertical-align: top;\n",
       "    }\n",
       "\n",
       "    .dataframe thead th {\n",
       "        text-align: right;\n",
       "    }\n",
       "</style>\n",
       "<table border=\"1\" class=\"dataframe\">\n",
       "  <thead>\n",
       "    <tr style=\"text-align: right;\">\n",
       "      <th></th>\n",
       "      <th>CURRENCY</th>\n",
       "      <th>AMOUNT</th>\n",
       "      <th>STATE</th>\n",
       "      <th>MERCHANT_CATEGORY</th>\n",
       "      <th>MERCHANT_COUNTRY</th>\n",
       "      <th>ENTRY_METHOD</th>\n",
       "      <th>TYPE</th>\n",
       "      <th>SOURCE</th>\n",
       "      <th>month</th>\n",
       "      <th>day_of_week</th>\n",
       "      <th>time_of_day</th>\n",
       "    </tr>\n",
       "  </thead>\n",
       "  <tbody>\n",
       "    <tr>\n",
       "      <th>0</th>\n",
       "      <td>NaN</td>\n",
       "      <td>NaN</td>\n",
       "      <td>NaN</td>\n",
       "      <td>NaN</td>\n",
       "      <td>NaN</td>\n",
       "      <td>NaN</td>\n",
       "      <td>NaN</td>\n",
       "      <td>NaN</td>\n",
       "      <td>NaN</td>\n",
       "      <td>NaN</td>\n",
       "      <td>NaN</td>\n",
       "    </tr>\n",
       "    <tr>\n",
       "      <th>1</th>\n",
       "      <td>9.0</td>\n",
       "      <td>59700.0</td>\n",
       "      <td>1.0</td>\n",
       "      <td>73.0</td>\n",
       "      <td>362.0</td>\n",
       "      <td>5.0</td>\n",
       "      <td>4.0</td>\n",
       "      <td>8.0</td>\n",
       "      <td>6.0</td>\n",
       "      <td>4.0</td>\n",
       "      <td>6.0</td>\n",
       "    </tr>\n",
       "    <tr>\n",
       "      <th>2</th>\n",
       "      <td>9.0</td>\n",
       "      <td>10000.0</td>\n",
       "      <td>1.0</td>\n",
       "      <td>73.0</td>\n",
       "      <td>362.0</td>\n",
       "      <td>5.0</td>\n",
       "      <td>1.0</td>\n",
       "      <td>8.0</td>\n",
       "      <td>6.0</td>\n",
       "      <td>4.0</td>\n",
       "      <td>6.0</td>\n",
       "    </tr>\n",
       "    <tr>\n",
       "      <th>3</th>\n",
       "      <td>9.0</td>\n",
       "      <td>10000.0</td>\n",
       "      <td>1.0</td>\n",
       "      <td>73.0</td>\n",
       "      <td>362.0</td>\n",
       "      <td>5.0</td>\n",
       "      <td>1.0</td>\n",
       "      <td>2.0</td>\n",
       "      <td>7.0</td>\n",
       "      <td>6.0</td>\n",
       "      <td>7.0</td>\n",
       "    </tr>\n",
       "    <tr>\n",
       "      <th>4</th>\n",
       "      <td>9.0</td>\n",
       "      <td>10000.0</td>\n",
       "      <td>1.0</td>\n",
       "      <td>73.0</td>\n",
       "      <td>362.0</td>\n",
       "      <td>5.0</td>\n",
       "      <td>1.0</td>\n",
       "      <td>8.0</td>\n",
       "      <td>7.0</td>\n",
       "      <td>0.0</td>\n",
       "      <td>7.0</td>\n",
       "    </tr>\n",
       "  </tbody>\n",
       "</table>\n",
       "</div>"
      ],
      "text/plain": [
       "   CURRENCY   AMOUNT  STATE  MERCHANT_CATEGORY  MERCHANT_COUNTRY  \\\n",
       "0       NaN      NaN    NaN                NaN               NaN   \n",
       "1       9.0  59700.0    1.0               73.0             362.0   \n",
       "2       9.0  10000.0    1.0               73.0             362.0   \n",
       "3       9.0  10000.0    1.0               73.0             362.0   \n",
       "4       9.0  10000.0    1.0               73.0             362.0   \n",
       "\n",
       "   ENTRY_METHOD  TYPE  SOURCE  month  day_of_week  time_of_day  \n",
       "0           NaN   NaN     NaN    NaN          NaN          NaN  \n",
       "1           5.0   4.0     8.0    6.0          4.0          6.0  \n",
       "2           5.0   1.0     8.0    6.0          4.0          6.0  \n",
       "3           5.0   1.0     2.0    7.0          6.0          7.0  \n",
       "4           5.0   1.0     8.0    7.0          0.0          7.0  "
      ]
     },
     "execution_count": 22,
     "metadata": {},
     "output_type": "execute_result"
    }
   ],
   "source": [
    "fraud_transactions.head()"
   ]
  },
  {
   "cell_type": "code",
   "execution_count": 21,
   "metadata": {},
   "outputs": [],
   "source": [
    "fraud_transactions.drop(fraud_transactions.columns[0], axis=1, inplace=True)"
   ]
  },
  {
   "cell_type": "code",
   "execution_count": 25,
   "metadata": {},
   "outputs": [
    {
     "data": {
      "text/plain": [
       "(14544, 11)"
      ]
     },
     "execution_count": 25,
     "metadata": {},
     "output_type": "execute_result"
    }
   ],
   "source": [
    "fraud_transactions.shape"
   ]
  },
  {
   "cell_type": "code",
   "execution_count": 28,
   "metadata": {},
   "outputs": [],
   "source": [
    "fraud_transactions = fraud_transactions.dropna()"
   ]
  },
  {
   "cell_type": "code",
   "execution_count": 29,
   "metadata": {},
   "outputs": [
    {
     "data": {
      "text/plain": [
       "OneClassSVM(cache_size=200, coef0=0.0, degree=3, gamma=0.1, kernel='rbf',\n",
       "      max_iter=-1, nu=0.1, random_state=None, shrinking=True, tol=0.001,\n",
       "      verbose=False)"
      ]
     },
     "execution_count": 29,
     "metadata": {},
     "output_type": "execute_result"
    }
   ],
   "source": [
    "clf = svm.OneClassSVM(nu=0.1, kernel=\"rbf\", gamma=0.1)\n",
    "clf.fit(fraud_transactions)"
   ]
  },
  {
   "cell_type": "code",
   "execution_count": 40,
   "metadata": {
    "scrolled": true
   },
   "outputs": [
    {
     "data": {
      "text/html": [
       "<div>\n",
       "<style scoped>\n",
       "    .dataframe tbody tr th:only-of-type {\n",
       "        vertical-align: middle;\n",
       "    }\n",
       "\n",
       "    .dataframe tbody tr th {\n",
       "        vertical-align: top;\n",
       "    }\n",
       "\n",
       "    .dataframe thead th {\n",
       "        text-align: right;\n",
       "    }\n",
       "</style>\n",
       "<table border=\"1\" class=\"dataframe\">\n",
       "  <thead>\n",
       "    <tr style=\"text-align: right;\">\n",
       "      <th></th>\n",
       "      <th>CURRENCY</th>\n",
       "      <th>AMOUNT</th>\n",
       "      <th>STATE</th>\n",
       "      <th>CREATED_DATE</th>\n",
       "      <th>MERCHANT_CATEGORY</th>\n",
       "      <th>MERCHANT_COUNTRY</th>\n",
       "      <th>ENTRY_METHOD</th>\n",
       "      <th>USER_ID</th>\n",
       "      <th>TYPE</th>\n",
       "      <th>SOURCE</th>\n",
       "      <th>ID</th>\n",
       "      <th>month</th>\n",
       "      <th>day_of_week</th>\n",
       "      <th>time_of_day</th>\n",
       "    </tr>\n",
       "  </thead>\n",
       "  <tbody>\n",
       "    <tr>\n",
       "      <th>0</th>\n",
       "      <td>9</td>\n",
       "      <td>3738</td>\n",
       "      <td>1</td>\n",
       "      <td>2015-10-11 09:05:43.016000</td>\n",
       "      <td>13</td>\n",
       "      <td>122</td>\n",
       "      <td>5</td>\n",
       "      <td>7285c1ec-31d0-4022-b311-0ad9227ef7f4</td>\n",
       "      <td>2</td>\n",
       "      <td>3</td>\n",
       "      <td>5a9ee109-e9b3-4598-8dd7-587591e6a470</td>\n",
       "      <td>10</td>\n",
       "      <td>6</td>\n",
       "      <td>10</td>\n",
       "    </tr>\n",
       "    <tr>\n",
       "      <th>1</th>\n",
       "      <td>9</td>\n",
       "      <td>588</td>\n",
       "      <td>1</td>\n",
       "      <td>2015-10-11 20:08:39.150000</td>\n",
       "      <td>73</td>\n",
       "      <td>149</td>\n",
       "      <td>5</td>\n",
       "      <td>20100a1d-12bc-41ed-a5e1-bc46216e9696</td>\n",
       "      <td>2</td>\n",
       "      <td>3</td>\n",
       "      <td>28d68bf4-460b-4c8e-9b95-bcda9ab596b5</td>\n",
       "      <td>10</td>\n",
       "      <td>6</td>\n",
       "      <td>10</td>\n",
       "    </tr>\n",
       "    <tr>\n",
       "      <th>2</th>\n",
       "      <td>9</td>\n",
       "      <td>1264</td>\n",
       "      <td>1</td>\n",
       "      <td>2015-10-11 11:37:40.908000</td>\n",
       "      <td>73</td>\n",
       "      <td>341</td>\n",
       "      <td>5</td>\n",
       "      <td>0fe472c9-cf3e-4e43-90f3-a0cfb6a4f1f0</td>\n",
       "      <td>2</td>\n",
       "      <td>3</td>\n",
       "      <td>1f1e8817-d40b-4c09-b718-cfc4a6f211df</td>\n",
       "      <td>10</td>\n",
       "      <td>6</td>\n",
       "      <td>10</td>\n",
       "    </tr>\n",
       "    <tr>\n",
       "      <th>3</th>\n",
       "      <td>9</td>\n",
       "      <td>66</td>\n",
       "      <td>6</td>\n",
       "      <td>2015-10-11 20:08:35.310000</td>\n",
       "      <td>73</td>\n",
       "      <td>149</td>\n",
       "      <td>5</td>\n",
       "      <td>20100a1d-12bc-41ed-a5e1-bc46216e9696</td>\n",
       "      <td>2</td>\n",
       "      <td>3</td>\n",
       "      <td>a7aaf78c-d201-456f-9e6d-612a795e8c32</td>\n",
       "      <td>10</td>\n",
       "      <td>6</td>\n",
       "      <td>10</td>\n",
       "    </tr>\n",
       "    <tr>\n",
       "      <th>4</th>\n",
       "      <td>9</td>\n",
       "      <td>968</td>\n",
       "      <td>1</td>\n",
       "      <td>2015-10-11 02:46:47.640000</td>\n",
       "      <td>108</td>\n",
       "      <td>282</td>\n",
       "      <td>5</td>\n",
       "      <td>821014c5-af06-40ff-91f4-77fe7667809f</td>\n",
       "      <td>2</td>\n",
       "      <td>3</td>\n",
       "      <td>27dd99a2-5539-4ba9-876a-1a94abc2701f</td>\n",
       "      <td>10</td>\n",
       "      <td>6</td>\n",
       "      <td>10</td>\n",
       "    </tr>\n",
       "  </tbody>\n",
       "</table>\n",
       "</div>"
      ],
      "text/plain": [
       "   CURRENCY  AMOUNT  STATE                CREATED_DATE  MERCHANT_CATEGORY  \\\n",
       "0         9    3738      1  2015-10-11 09:05:43.016000                 13   \n",
       "1         9     588      1  2015-10-11 20:08:39.150000                 73   \n",
       "2         9    1264      1  2015-10-11 11:37:40.908000                 73   \n",
       "3         9      66      6  2015-10-11 20:08:35.310000                 73   \n",
       "4         9     968      1  2015-10-11 02:46:47.640000                108   \n",
       "\n",
       "   MERCHANT_COUNTRY  ENTRY_METHOD                               USER_ID  TYPE  \\\n",
       "0               122             5  7285c1ec-31d0-4022-b311-0ad9227ef7f4     2   \n",
       "1               149             5  20100a1d-12bc-41ed-a5e1-bc46216e9696     2   \n",
       "2               341             5  0fe472c9-cf3e-4e43-90f3-a0cfb6a4f1f0     2   \n",
       "3               149             5  20100a1d-12bc-41ed-a5e1-bc46216e9696     2   \n",
       "4               282             5  821014c5-af06-40ff-91f4-77fe7667809f     2   \n",
       "\n",
       "   SOURCE                                    ID  month  day_of_week  \\\n",
       "0       3  5a9ee109-e9b3-4598-8dd7-587591e6a470     10            6   \n",
       "1       3  28d68bf4-460b-4c8e-9b95-bcda9ab596b5     10            6   \n",
       "2       3  1f1e8817-d40b-4c09-b718-cfc4a6f211df     10            6   \n",
       "3       3  a7aaf78c-d201-456f-9e6d-612a795e8c32     10            6   \n",
       "4       3  27dd99a2-5539-4ba9-876a-1a94abc2701f     10            6   \n",
       "\n",
       "   time_of_day  \n",
       "0           10  \n",
       "1           10  \n",
       "2           10  \n",
       "3           10  \n",
       "4           10  "
      ]
     },
     "execution_count": 40,
     "metadata": {},
     "output_type": "execute_result"
    }
   ],
   "source": [
    "transactions_df.head()"
   ]
  },
  {
   "cell_type": "code",
   "execution_count": 32,
   "metadata": {},
   "outputs": [],
   "source": [
    "fraud_transactions_pred = clf.predict(fraud_transactions)"
   ]
  },
  {
   "cell_type": "code",
   "execution_count": 35,
   "metadata": {},
   "outputs": [
    {
     "data": {
      "text/plain": [
       "array([-1,  1,  1, ...,  1, -1, -1])"
      ]
     },
     "execution_count": 35,
     "metadata": {},
     "output_type": "execute_result"
    }
   ],
   "source": [
    "fraud_transactions_pred"
   ]
  },
  {
   "cell_type": "code",
   "execution_count": 36,
   "metadata": {},
   "outputs": [
    {
     "data": {
      "text/plain": [
       "array([[   -1,  4226],\n",
       "       [    1, 10317]])"
      ]
     },
     "execution_count": 36,
     "metadata": {},
     "output_type": "execute_result"
    }
   ],
   "source": [
    "np.array(np.unique(fraud_transactions_pred, return_counts=True)).T"
   ]
  },
  {
   "cell_type": "code",
   "execution_count": 41,
   "metadata": {},
   "outputs": [],
   "source": [
    "transactions_df.drop(transactions_df.columns[3], axis=1, inplace=True)"
   ]
  },
  {
   "cell_type": "code",
   "execution_count": 43,
   "metadata": {},
   "outputs": [
    {
     "data": {
      "text/html": [
       "<div>\n",
       "<style scoped>\n",
       "    .dataframe tbody tr th:only-of-type {\n",
       "        vertical-align: middle;\n",
       "    }\n",
       "\n",
       "    .dataframe tbody tr th {\n",
       "        vertical-align: top;\n",
       "    }\n",
       "\n",
       "    .dataframe thead th {\n",
       "        text-align: right;\n",
       "    }\n",
       "</style>\n",
       "<table border=\"1\" class=\"dataframe\">\n",
       "  <thead>\n",
       "    <tr style=\"text-align: right;\">\n",
       "      <th></th>\n",
       "      <th>CURRENCY</th>\n",
       "      <th>AMOUNT</th>\n",
       "      <th>STATE</th>\n",
       "      <th>MERCHANT_CATEGORY</th>\n",
       "      <th>MERCHANT_COUNTRY</th>\n",
       "      <th>ENTRY_METHOD</th>\n",
       "      <th>TYPE</th>\n",
       "      <th>SOURCE</th>\n",
       "      <th>month</th>\n",
       "      <th>day_of_week</th>\n",
       "      <th>time_of_day</th>\n",
       "    </tr>\n",
       "  </thead>\n",
       "  <tbody>\n",
       "    <tr>\n",
       "      <th>0</th>\n",
       "      <td>9</td>\n",
       "      <td>3738</td>\n",
       "      <td>1</td>\n",
       "      <td>13</td>\n",
       "      <td>122</td>\n",
       "      <td>5</td>\n",
       "      <td>2</td>\n",
       "      <td>3</td>\n",
       "      <td>10</td>\n",
       "      <td>6</td>\n",
       "      <td>10</td>\n",
       "    </tr>\n",
       "    <tr>\n",
       "      <th>1</th>\n",
       "      <td>9</td>\n",
       "      <td>588</td>\n",
       "      <td>1</td>\n",
       "      <td>73</td>\n",
       "      <td>149</td>\n",
       "      <td>5</td>\n",
       "      <td>2</td>\n",
       "      <td>3</td>\n",
       "      <td>10</td>\n",
       "      <td>6</td>\n",
       "      <td>10</td>\n",
       "    </tr>\n",
       "    <tr>\n",
       "      <th>2</th>\n",
       "      <td>9</td>\n",
       "      <td>1264</td>\n",
       "      <td>1</td>\n",
       "      <td>73</td>\n",
       "      <td>341</td>\n",
       "      <td>5</td>\n",
       "      <td>2</td>\n",
       "      <td>3</td>\n",
       "      <td>10</td>\n",
       "      <td>6</td>\n",
       "      <td>10</td>\n",
       "    </tr>\n",
       "    <tr>\n",
       "      <th>3</th>\n",
       "      <td>9</td>\n",
       "      <td>66</td>\n",
       "      <td>6</td>\n",
       "      <td>73</td>\n",
       "      <td>149</td>\n",
       "      <td>5</td>\n",
       "      <td>2</td>\n",
       "      <td>3</td>\n",
       "      <td>10</td>\n",
       "      <td>6</td>\n",
       "      <td>10</td>\n",
       "    </tr>\n",
       "    <tr>\n",
       "      <th>4</th>\n",
       "      <td>9</td>\n",
       "      <td>968</td>\n",
       "      <td>1</td>\n",
       "      <td>108</td>\n",
       "      <td>282</td>\n",
       "      <td>5</td>\n",
       "      <td>2</td>\n",
       "      <td>3</td>\n",
       "      <td>10</td>\n",
       "      <td>6</td>\n",
       "      <td>10</td>\n",
       "    </tr>\n",
       "  </tbody>\n",
       "</table>\n",
       "</div>"
      ],
      "text/plain": [
       "   CURRENCY  AMOUNT  STATE  MERCHANT_CATEGORY  MERCHANT_COUNTRY  ENTRY_METHOD  \\\n",
       "0         9    3738      1                 13               122             5   \n",
       "1         9     588      1                 73               149             5   \n",
       "2         9    1264      1                 73               341             5   \n",
       "3         9      66      6                 73               149             5   \n",
       "4         9     968      1                108               282             5   \n",
       "\n",
       "   TYPE  SOURCE  month  day_of_week  time_of_day  \n",
       "0     2       3     10            6           10  \n",
       "1     2       3     10            6           10  \n",
       "2     2       3     10            6           10  \n",
       "3     2       3     10            6           10  \n",
       "4     2       3     10            6           10  "
      ]
     },
     "execution_count": 43,
     "metadata": {},
     "output_type": "execute_result"
    }
   ],
   "source": [
    "test_df = transactions_df[['CURRENCY', 'AMOUNT', 'STATE', 'MERCHANT_CATEGORY', 'MERCHANT_COUNTRY', 'ENTRY_METHOD', \\\n",
    "         'TYPE', 'SOURCE', 'month', 'day_of_week', 'time_of_day']]\n",
    "test_df.columns\n",
    "test_df.head()"
   ]
  },
  {
   "cell_type": "code",
   "execution_count": 44,
   "metadata": {},
   "outputs": [],
   "source": [
    "all_fraud_transactions_pred = clf.predict(test_df)"
   ]
  },
  {
   "cell_type": "code",
   "execution_count": 45,
   "metadata": {},
   "outputs": [],
   "source": [
    "all_users = transactions_df['USER_ID']"
   ]
  },
  {
   "cell_type": "code",
   "execution_count": 49,
   "metadata": {},
   "outputs": [],
   "source": [
    "new_fraud_users = []\n",
    "for i, user in enumerate(all_users):\n",
    "    if all_fraud_transactions_pred[i] == 1:\n",
    "        new_fraud_users.append(user)"
   ]
  },
  {
   "cell_type": "code",
   "execution_count": 52,
   "metadata": {},
   "outputs": [],
   "source": [
    "new_fraud_users = list(set(new_fraud_users))"
   ]
  },
  {
   "cell_type": "code",
   "execution_count": 53,
   "metadata": {},
   "outputs": [
    {
     "data": {
      "text/plain": [
       "6139"
      ]
     },
     "execution_count": 53,
     "metadata": {},
     "output_type": "execute_result"
    }
   ],
   "source": [
    "len(new_fraud_users)"
   ]
  },
  {
   "cell_type": "code",
   "execution_count": 54,
   "metadata": {},
   "outputs": [],
   "source": [
    "new_fraud_users_df = pd.DataFrame(new_fraud_users)"
   ]
  },
  {
   "cell_type": "code",
   "execution_count": 58,
   "metadata": {},
   "outputs": [],
   "source": [
    "new_fraud_users_df.to_csv(new_fraud_file_path)"
   ]
  },
  {
   "cell_type": "code",
   "execution_count": null,
   "metadata": {},
   "outputs": [],
   "source": []
  }
 ],
 "metadata": {
  "kernelspec": {
   "display_name": "Python 2",
   "language": "python",
   "name": "python2"
  },
  "language_info": {
   "codemirror_mode": {
    "name": "ipython",
    "version": 2
   },
   "file_extension": ".py",
   "mimetype": "text/x-python",
   "name": "python",
   "nbconvert_exporter": "python",
   "pygments_lexer": "ipython2",
   "version": "2.7.15rc1"
  }
 },
 "nbformat": 4,
 "nbformat_minor": 2
}
