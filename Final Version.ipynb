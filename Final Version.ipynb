{
 "cells": [
  {
   "cell_type": "code",
   "execution_count": 1,
   "metadata": {},
   "outputs": [],
   "source": [
    "# Importing necessary files\n",
    "\n",
    "import pandas as pd\n",
    "import numpy as np\n",
    "from sklearn import svm\n",
    "from sklearn.preprocessing import LabelEncoder"
   ]
  },
  {
   "cell_type": "code",
   "execution_count": 2,
   "metadata": {},
   "outputs": [],
   "source": [
    "# All the paths to be used in the notebook\n",
    "\n",
    "transactions_path = './transactions.csv'\n",
    "fraudsters_path = './fraudsters.csv'\n",
    "users_path = './users.csv'\n",
    "new_fraud_file_path = './updated_fraudsters.csv'"
   ]
  },
  {
   "cell_type": "code",
   "execution_count": 3,
   "metadata": {},
   "outputs": [],
   "source": [
    "# Read all data\n",
    "\n",
    "transactions_df = pd.read_csv(transactions_path)\n",
    "fraudsters_df = pd.read_csv(fraudsters_path)\n",
    "users_df = pd.read_csv(users_path)"
   ]
  },
  {
   "cell_type": "code",
   "execution_count": 4,
   "metadata": {},
   "outputs": [],
   "source": [
    "# Encode labels for categorical data -> Assigns numbers to categories\n",
    "\n",
    "le = LabelEncoder()\n",
    "transactions_df['CURRENCY'] = le.fit_transform(transactions_df['CURRENCY'].astype('str'))\n",
    "transactions_df['STATE'] = le.fit_transform(transactions_df['STATE'].astype('str'))\n",
    "transactions_df['MERCHANT_CATEGORY'] = le.fit_transform(transactions_df['MERCHANT_CATEGORY'].astype('str'))\n",
    "transactions_df['ENTRY_METHOD'] = le.fit_transform(transactions_df['ENTRY_METHOD'].astype('str'))\n",
    "transactions_df['TYPE'] = le.fit_transform(transactions_df['TYPE'].astype('str'))\n",
    "transactions_df['SOURCE'] = le.fit_transform(transactions_df['SOURCE'].astype('str'))\n",
    "transactions_df['MERCHANT_COUNTRY'] = le.fit_transform(transactions_df['MERCHANT_COUNTRY'].astype('str'))"
   ]
  },
  {
   "cell_type": "code",
   "execution_count": 5,
   "metadata": {},
   "outputs": [],
   "source": [
    "# Extract more features from dates\n",
    "\"\"\"\n",
    "1. Transaction's time during the day (create a relation between time of day and fraud i.e. \n",
    "                                    fraud could happen more often around midnight)\n",
    "2. Transaction's day during the week (frequent during the week, at the start or over the weeknd)\n",
    "3. Transaction's month (time of year where fraud might be frequent)\n",
    "\"\"\"\n",
    "from datetime import datetime\n",
    "#date = lambda x: datetime.strptime(x, \"%Y-%m-%d %H:%M:%S:%f\")\n",
    "month = lambda x: datetime.strptime(x, \"%Y-%m-%d %H:%M:%S.%f\" ).month\n",
    "week_day = lambda x: datetime.strptime(x, \"%Y-%m-%d %H:%M:%S.%f\" ).weekday()\n",
    "times_of_day = [0, 0, 0, 1, 1, 1, 2, 2, 2, 3, 3, 3, 4, 4, 4, 5, 5, 5, 6, 6, 6, 7, 7, 7 ]\n",
    "time_of_day = lambda x: times_of_day[datetime.strptime(x, \"%Y-%m-%d %H:%M:%S.%f\").hour]\n",
    "\n",
    "transactions_df['month'] = transactions_df['CREATED_DATE'].map(month)\n",
    "transactions_df['day_of_week'] = transactions_df['CREATED_DATE'].map(week_day)\n",
    "transactions_df['time_of_day'] = transactions_df['CREATED_DATE'].map(month)"
   ]
  },
  {
   "cell_type": "code",
   "execution_count": 6,
   "metadata": {},
   "outputs": [],
   "source": [
    "# Merge fraudsters data with the transactions they have done to derive a pattern for each transaction\n",
    "fraud_transactions = pd.merge(fraudsters_df, transactions_df, left_on = 'user_id', right_on = 'USER_ID', how='left')"
   ]
  },
  {
   "cell_type": "code",
   "execution_count": 7,
   "metadata": {},
   "outputs": [
    {
     "data": {
      "text/html": [
       "<div>\n",
       "<style scoped>\n",
       "    .dataframe tbody tr th:only-of-type {\n",
       "        vertical-align: middle;\n",
       "    }\n",
       "\n",
       "    .dataframe tbody tr th {\n",
       "        vertical-align: top;\n",
       "    }\n",
       "\n",
       "    .dataframe thead th {\n",
       "        text-align: right;\n",
       "    }\n",
       "</style>\n",
       "<table border=\"1\" class=\"dataframe\">\n",
       "  <thead>\n",
       "    <tr style=\"text-align: right;\">\n",
       "      <th></th>\n",
       "      <th>Unnamed: 0_x</th>\n",
       "      <th>user_id</th>\n",
       "      <th>Unnamed: 0_y</th>\n",
       "      <th>CURRENCY</th>\n",
       "      <th>AMOUNT</th>\n",
       "      <th>STATE</th>\n",
       "      <th>CREATED_DATE</th>\n",
       "      <th>MERCHANT_CATEGORY</th>\n",
       "      <th>MERCHANT_COUNTRY</th>\n",
       "      <th>ENTRY_METHOD</th>\n",
       "      <th>USER_ID</th>\n",
       "      <th>TYPE</th>\n",
       "      <th>SOURCE</th>\n",
       "      <th>ID</th>\n",
       "      <th>month</th>\n",
       "      <th>day_of_week</th>\n",
       "      <th>time_of_day</th>\n",
       "    </tr>\n",
       "  </thead>\n",
       "  <tbody>\n",
       "    <tr>\n",
       "      <th>0</th>\n",
       "      <td>0</td>\n",
       "      <td>5270b0f4-2e4a-4ec9-8648-2135312ac1c4</td>\n",
       "      <td>NaN</td>\n",
       "      <td>NaN</td>\n",
       "      <td>NaN</td>\n",
       "      <td>NaN</td>\n",
       "      <td>NaN</td>\n",
       "      <td>NaN</td>\n",
       "      <td>NaN</td>\n",
       "      <td>NaN</td>\n",
       "      <td>NaN</td>\n",
       "      <td>NaN</td>\n",
       "      <td>NaN</td>\n",
       "      <td>NaN</td>\n",
       "      <td>NaN</td>\n",
       "      <td>NaN</td>\n",
       "      <td>NaN</td>\n",
       "    </tr>\n",
       "    <tr>\n",
       "      <th>1</th>\n",
       "      <td>1</td>\n",
       "      <td>848fc1b1-096c-40f7-b04a-1399c469e421</td>\n",
       "      <td>599236.0</td>\n",
       "      <td>9.0</td>\n",
       "      <td>59700.0</td>\n",
       "      <td>1.0</td>\n",
       "      <td>2018-06-29 12:34:41.413000</td>\n",
       "      <td>73.0</td>\n",
       "      <td>362.0</td>\n",
       "      <td>5.0</td>\n",
       "      <td>848fc1b1-096c-40f7-b04a-1399c469e421</td>\n",
       "      <td>4.0</td>\n",
       "      <td>8.0</td>\n",
       "      <td>062feaed-978a-4e04-b167-accf58d4f51e</td>\n",
       "      <td>6.0</td>\n",
       "      <td>4.0</td>\n",
       "      <td>6.0</td>\n",
       "    </tr>\n",
       "    <tr>\n",
       "      <th>2</th>\n",
       "      <td>1</td>\n",
       "      <td>848fc1b1-096c-40f7-b04a-1399c469e421</td>\n",
       "      <td>600652.0</td>\n",
       "      <td>9.0</td>\n",
       "      <td>10000.0</td>\n",
       "      <td>1.0</td>\n",
       "      <td>2018-06-29 16:22:12.830000</td>\n",
       "      <td>73.0</td>\n",
       "      <td>362.0</td>\n",
       "      <td>5.0</td>\n",
       "      <td>848fc1b1-096c-40f7-b04a-1399c469e421</td>\n",
       "      <td>1.0</td>\n",
       "      <td>8.0</td>\n",
       "      <td>0baebd76-a069-46a0-b566-2b3c98779415</td>\n",
       "      <td>6.0</td>\n",
       "      <td>4.0</td>\n",
       "      <td>6.0</td>\n",
       "    </tr>\n",
       "    <tr>\n",
       "      <th>3</th>\n",
       "      <td>1</td>\n",
       "      <td>848fc1b1-096c-40f7-b04a-1399c469e421</td>\n",
       "      <td>608847.0</td>\n",
       "      <td>9.0</td>\n",
       "      <td>10000.0</td>\n",
       "      <td>1.0</td>\n",
       "      <td>2018-07-01 13:56:12.490000</td>\n",
       "      <td>73.0</td>\n",
       "      <td>362.0</td>\n",
       "      <td>5.0</td>\n",
       "      <td>848fc1b1-096c-40f7-b04a-1399c469e421</td>\n",
       "      <td>1.0</td>\n",
       "      <td>2.0</td>\n",
       "      <td>a40d8b2a-8f54-4422-b8e3-9d6fc485b6a6</td>\n",
       "      <td>7.0</td>\n",
       "      <td>6.0</td>\n",
       "      <td>7.0</td>\n",
       "    </tr>\n",
       "    <tr>\n",
       "      <th>4</th>\n",
       "      <td>1</td>\n",
       "      <td>848fc1b1-096c-40f7-b04a-1399c469e421</td>\n",
       "      <td>609296.0</td>\n",
       "      <td>9.0</td>\n",
       "      <td>10000.0</td>\n",
       "      <td>1.0</td>\n",
       "      <td>2018-07-02 20:02:34.118000</td>\n",
       "      <td>73.0</td>\n",
       "      <td>362.0</td>\n",
       "      <td>5.0</td>\n",
       "      <td>848fc1b1-096c-40f7-b04a-1399c469e421</td>\n",
       "      <td>1.0</td>\n",
       "      <td>8.0</td>\n",
       "      <td>cb6d9f7c-f53b-40c7-9cde-e9925bb2f704</td>\n",
       "      <td>7.0</td>\n",
       "      <td>0.0</td>\n",
       "      <td>7.0</td>\n",
       "    </tr>\n",
       "  </tbody>\n",
       "</table>\n",
       "</div>"
      ],
      "text/plain": [
       "   Unnamed: 0_x                               user_id  Unnamed: 0_y  CURRENCY  \\\n",
       "0             0  5270b0f4-2e4a-4ec9-8648-2135312ac1c4           NaN       NaN   \n",
       "1             1  848fc1b1-096c-40f7-b04a-1399c469e421      599236.0       9.0   \n",
       "2             1  848fc1b1-096c-40f7-b04a-1399c469e421      600652.0       9.0   \n",
       "3             1  848fc1b1-096c-40f7-b04a-1399c469e421      608847.0       9.0   \n",
       "4             1  848fc1b1-096c-40f7-b04a-1399c469e421      609296.0       9.0   \n",
       "\n",
       "    AMOUNT  STATE                CREATED_DATE  MERCHANT_CATEGORY  \\\n",
       "0      NaN    NaN                         NaN                NaN   \n",
       "1  59700.0    1.0  2018-06-29 12:34:41.413000               73.0   \n",
       "2  10000.0    1.0  2018-06-29 16:22:12.830000               73.0   \n",
       "3  10000.0    1.0  2018-07-01 13:56:12.490000               73.0   \n",
       "4  10000.0    1.0  2018-07-02 20:02:34.118000               73.0   \n",
       "\n",
       "   MERCHANT_COUNTRY  ENTRY_METHOD                               USER_ID  TYPE  \\\n",
       "0               NaN           NaN                                   NaN   NaN   \n",
       "1             362.0           5.0  848fc1b1-096c-40f7-b04a-1399c469e421   4.0   \n",
       "2             362.0           5.0  848fc1b1-096c-40f7-b04a-1399c469e421   1.0   \n",
       "3             362.0           5.0  848fc1b1-096c-40f7-b04a-1399c469e421   1.0   \n",
       "4             362.0           5.0  848fc1b1-096c-40f7-b04a-1399c469e421   1.0   \n",
       "\n",
       "   SOURCE                                    ID  month  day_of_week  \\\n",
       "0     NaN                                   NaN    NaN          NaN   \n",
       "1     8.0  062feaed-978a-4e04-b167-accf58d4f51e    6.0          4.0   \n",
       "2     8.0  0baebd76-a069-46a0-b566-2b3c98779415    6.0          4.0   \n",
       "3     2.0  a40d8b2a-8f54-4422-b8e3-9d6fc485b6a6    7.0          6.0   \n",
       "4     8.0  cb6d9f7c-f53b-40c7-9cde-e9925bb2f704    7.0          0.0   \n",
       "\n",
       "   time_of_day  \n",
       "0          NaN  \n",
       "1          6.0  \n",
       "2          6.0  \n",
       "3          7.0  \n",
       "4          7.0  "
      ]
     },
     "execution_count": 7,
     "metadata": {},
     "output_type": "execute_result"
    }
   ],
   "source": [
    "fraud_transactions.head()"
   ]
  },
  {
   "cell_type": "code",
   "execution_count": 8,
   "metadata": {},
   "outputs": [],
   "source": [
    "# After feature engineering, extract the columns needed for training\n",
    "\n",
    "X_train = fraud_transactions[['CURRENCY', 'AMOUNT', 'STATE', 'MERCHANT_CATEGORY', 'MERCHANT_COUNTRY', 'ENTRY_METHOD', \\\n",
    "                             'TYPE', 'SOURCE', 'month', 'day_of_week', 'time_of_day']]"
   ]
  },
  {
   "cell_type": "code",
   "execution_count": 9,
   "metadata": {},
   "outputs": [
    {
     "data": {
      "text/plain": [
       "(14544, 11)"
      ]
     },
     "execution_count": 9,
     "metadata": {},
     "output_type": "execute_result"
    }
   ],
   "source": [
    "X_train.shape"
   ]
  },
  {
   "cell_type": "code",
   "execution_count": 10,
   "metadata": {},
   "outputs": [],
   "source": [
    "X_train = X_train.dropna()"
   ]
  },
  {
   "cell_type": "code",
   "execution_count": 11,
   "metadata": {},
   "outputs": [
    {
     "data": {
      "text/plain": [
       "OneClassSVM(cache_size=200, coef0=0.0, degree=3, gamma=0.1, kernel='rbf',\n",
       "      max_iter=-1, nu=0.1, random_state=None, shrinking=True, tol=0.001,\n",
       "      verbose=False)"
      ]
     },
     "execution_count": 11,
     "metadata": {},
     "output_type": "execute_result"
    }
   ],
   "source": [
    "# Since this is one class classification, OneClassSVM is perfect for this situation, derives a pattern for fraud transactions\n",
    "clf = svm.OneClassSVM(nu=0.1, kernel=\"rbf\", gamma=0.1)\n",
    "clf.fit(X_train)"
   ]
  },
  {
   "cell_type": "code",
   "execution_count": 12,
   "metadata": {},
   "outputs": [],
   "source": [
    "y_train = clf.predict(X_train)"
   ]
  },
  {
   "cell_type": "code",
   "execution_count": 13,
   "metadata": {},
   "outputs": [
    {
     "data": {
      "text/plain": [
       "array([[   -1,  4226],\n",
       "       [    1, 10317]])"
      ]
     },
     "execution_count": 13,
     "metadata": {},
     "output_type": "execute_result"
    }
   ],
   "source": [
    "np.array(np.unique(y_train, return_counts=True)).T"
   ]
  },
  {
   "cell_type": "code",
   "execution_count": 14,
   "metadata": {},
   "outputs": [],
   "source": [
    "X_test = transactions_df[['CURRENCY', 'AMOUNT', 'STATE', 'MERCHANT_CATEGORY', 'MERCHANT_COUNTRY', 'ENTRY_METHOD', \\\n",
    "         'TYPE', 'SOURCE', 'month', 'day_of_week', 'time_of_day']]"
   ]
  },
  {
   "cell_type": "code",
   "execution_count": 15,
   "metadata": {},
   "outputs": [],
   "source": [
    "y_test = clf.predict(X_test)"
   ]
  },
  {
   "cell_type": "code",
   "execution_count": 16,
   "metadata": {},
   "outputs": [],
   "source": [
    "all_users = transactions_df['USER_ID']"
   ]
  },
  {
   "cell_type": "code",
   "execution_count": 18,
   "metadata": {},
   "outputs": [],
   "source": [
    "# Save all the users whose transactions were tagged by the SVM as fraudster\n",
    "new_fraud_users = []\n",
    "for i, user in enumerate(all_users):\n",
    "    if y_test[i] == 1:\n",
    "        new_fraud_users.append(user)"
   ]
  },
  {
   "cell_type": "code",
   "execution_count": 19,
   "metadata": {},
   "outputs": [],
   "source": [
    "new_fraud_users = list(set(new_fraud_users))"
   ]
  },
  {
   "cell_type": "code",
   "execution_count": 20,
   "metadata": {},
   "outputs": [
    {
     "data": {
      "text/plain": [
       "6139"
      ]
     },
     "execution_count": 20,
     "metadata": {},
     "output_type": "execute_result"
    }
   ],
   "source": [
    "len(new_fraud_users)"
   ]
  },
  {
   "cell_type": "code",
   "execution_count": 21,
   "metadata": {},
   "outputs": [],
   "source": [
    "new_fraud_users_df = pd.DataFrame(new_fraud_users)"
   ]
  },
  {
   "cell_type": "code",
   "execution_count": 22,
   "metadata": {},
   "outputs": [],
   "source": [
    "# Save the data to a csv file \n",
    "new_fraud_users_df.to_csv(new_fraud_file_path)"
   ]
  },
  {
   "cell_type": "code",
   "execution_count": null,
   "metadata": {},
   "outputs": [],
   "source": []
  }
 ],
 "metadata": {
  "kernelspec": {
   "display_name": "Python 2",
   "language": "python",
   "name": "python2"
  },
  "language_info": {
   "codemirror_mode": {
    "name": "ipython",
    "version": 2
   },
   "file_extension": ".py",
   "mimetype": "text/x-python",
   "name": "python",
   "nbconvert_exporter": "python",
   "pygments_lexer": "ipython2",
   "version": "2.7.15rc1"
  }
 },
 "nbformat": 4,
 "nbformat_minor": 2
}
